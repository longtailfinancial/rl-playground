{
 "cells": [
  {
   "cell_type": "code",
   "execution_count": 36,
   "id": "ordered-drunk",
   "metadata": {},
   "outputs": [],
   "source": [
    "import pandas as pd\n",
    "import hvplot.pandas\n",
    "import numpy as np\n",
    "import ast"
   ]
  },
  {
   "cell_type": "code",
   "execution_count": 84,
   "id": "still-scheme",
   "metadata": {},
   "outputs": [],
   "source": [
    "df = pd.read_csv('agent_performance.csv')\n",
    "df['Gradient'] = df['Gradient'].apply(ast.literal_eval)\n",
    "df[['g1','g2','g3','g4', 'g5']] = pd.DataFrame(df.Gradient.tolist(), index= df.index)\n",
    "df['State'] = df['State'].apply(ast.literal_eval)\n",
    "df[['s1','s2','s3','s4', 's5']] = pd.DataFrame(df.State.tolist(), index= df.index)\n",
    "\n",
    "df['a1'] = df['Action'].apply(lambda x: int(x[1]))\n",
    "\n",
    "df['a2'] = df['Action'].apply(lambda x: int(x[3]))\n",
    "\n",
    "df['a3'] = df['Action'].apply(lambda x: int(x[5]))"
   ]
  },
  {
   "cell_type": "code",
   "execution_count": 85,
   "id": "processed-optimum",
   "metadata": {},
   "outputs": [
    {
     "data": {},
     "metadata": {},
     "output_type": "display_data"
    },
    {
     "data": {
      "application/vnd.holoviews_exec.v0+json": "",
      "text/html": [
       "<div id='2546'>\n",
       "\n",
       "\n",
       "\n",
       "\n",
       "\n",
       "  <div class=\"bk-root\" id=\"e57d7ce5-542e-4ae0-8a8a-ba74a872f72b\" data-root-id=\"2546\"></div>\n",
       "</div>\n",
       "<script type=\"application/javascript\">(function(root) {\n",
       "  function embed_document(root) {\n",
       "    var docs_json = {\"64845085-30d0-40c4-9ad3-f074bb6b08be\":{\"roots\":{\"references\":[{\"attributes\":{\"line_alpha\":0.1,\"line_color\":\"#1f77b3\",\"line_width\":2,\"x\":{\"field\":\"index\"},\"y\":{\"field\":\"Reward\"}},\"id\":\"2585\",\"type\":\"Line\"},{\"attributes\":{},\"id\":\"2561\",\"type\":\"BasicTicker\"},{\"attributes\":{\"text\":\"\",\"text_color\":{\"value\":\"black\"},\"text_font_size\":{\"value\":\"12pt\"}},\"id\":\"2552\",\"type\":\"Title\"},{\"attributes\":{\"bottom_units\":\"screen\",\"fill_alpha\":0.5,\"fill_color\":\"lightgrey\",\"left_units\":\"screen\",\"level\":\"overlay\",\"line_alpha\":1.0,\"line_color\":\"black\",\"line_dash\":[4,4],\"line_width\":2,\"right_units\":\"screen\",\"top_units\":\"screen\"},\"id\":\"2573\",\"type\":\"BoxAnnotation\"},{\"attributes\":{\"end\":20.0,\"reset_end\":20.0,\"reset_start\":0.0,\"tags\":[[[\"index\",\"index\",null]]]},\"id\":\"2548\",\"type\":\"Range1d\"},{\"attributes\":{\"overlay\":{\"id\":\"2573\"}},\"id\":\"2571\",\"type\":\"BoxZoomTool\"},{\"attributes\":{},\"id\":\"2591\",\"type\":\"BasicTickFormatter\"},{\"attributes\":{},\"id\":\"2600\",\"type\":\"UnionRenderers\"},{\"attributes\":{\"axis_label\":\"\",\"bounds\":\"auto\",\"formatter\":{\"id\":\"2589\"},\"major_label_orientation\":\"horizontal\",\"ticker\":{\"id\":\"2561\"}},\"id\":\"2560\",\"type\":\"LinearAxis\"},{\"attributes\":{\"axis\":{\"id\":\"2560\"},\"grid_line_color\":null,\"ticker\":null},\"id\":\"2563\",\"type\":\"Grid\"},{\"attributes\":{\"end\":11.516614446942972,\"reset_end\":11.516614446942972,\"reset_start\":-1.0469649497220883,\"start\":-1.0469649497220883,\"tags\":[[[\"Reward\",\"Reward\",null]]]},\"id\":\"2549\",\"type\":\"Range1d\"},{\"attributes\":{\"margin\":[5,5,5,5],\"name\":\"HSpacer05117\",\"sizing_mode\":\"stretch_width\"},\"id\":\"2547\",\"type\":\"Spacer\"},{\"attributes\":{\"line_alpha\":0.2,\"line_color\":\"#1f77b3\",\"line_width\":2,\"x\":{\"field\":\"index\"},\"y\":{\"field\":\"Reward\"}},\"id\":\"2586\",\"type\":\"Line\"},{\"attributes\":{},\"id\":\"2565\",\"type\":\"BasicTicker\"},{\"attributes\":{},\"id\":\"2568\",\"type\":\"SaveTool\"},{\"attributes\":{},\"id\":\"2556\",\"type\":\"LinearScale\"},{\"attributes\":{},\"id\":\"2570\",\"type\":\"WheelZoomTool\"},{\"attributes\":{\"source\":{\"id\":\"2581\"}},\"id\":\"2588\",\"type\":\"CDSView\"},{\"attributes\":{\"children\":[{\"id\":\"2547\"},{\"id\":\"2551\"},{\"id\":\"2609\"}],\"margin\":[0,0,0,0],\"name\":\"Row05113\",\"tags\":[\"embedded\"]},\"id\":\"2546\",\"type\":\"Row\"},{\"attributes\":{},\"id\":\"2589\",\"type\":\"BasicTickFormatter\"},{\"attributes\":{\"callback\":null,\"renderers\":[{\"id\":\"2587\"}],\"tags\":[\"hv_created\"],\"tooltips\":[[\"index\",\"@{index}\"],[\"Reward\",\"@{Reward}\"]]},\"id\":\"2550\",\"type\":\"HoverTool\"},{\"attributes\":{\"axis\":{\"id\":\"2564\"},\"dimension\":1,\"grid_line_color\":null,\"ticker\":null},\"id\":\"2567\",\"type\":\"Grid\"},{\"attributes\":{\"below\":[{\"id\":\"2560\"}],\"center\":[{\"id\":\"2563\"},{\"id\":\"2567\"}],\"left\":[{\"id\":\"2564\"}],\"margin\":[5,5,5,5],\"min_border_bottom\":10,\"min_border_left\":10,\"min_border_right\":10,\"min_border_top\":10,\"plot_height\":300,\"plot_width\":700,\"renderers\":[{\"id\":\"2587\"}],\"sizing_mode\":\"fixed\",\"title\":{\"id\":\"2552\"},\"toolbar\":{\"id\":\"2574\"},\"x_range\":{\"id\":\"2548\"},\"x_scale\":{\"id\":\"2556\"},\"y_range\":{\"id\":\"2549\"},\"y_scale\":{\"id\":\"2558\"}},\"id\":\"2551\",\"subtype\":\"Figure\",\"type\":\"Plot\"},{\"attributes\":{},\"id\":\"2582\",\"type\":\"Selection\"},{\"attributes\":{\"line_color\":\"#1f77b3\",\"line_width\":2,\"x\":{\"field\":\"index\"},\"y\":{\"field\":\"Reward\"}},\"id\":\"2584\",\"type\":\"Line\"},{\"attributes\":{\"data_source\":{\"id\":\"2581\"},\"glyph\":{\"id\":\"2584\"},\"hover_glyph\":null,\"muted_glyph\":{\"id\":\"2586\"},\"nonselection_glyph\":{\"id\":\"2585\"},\"selection_glyph\":null,\"view\":{\"id\":\"2588\"}},\"id\":\"2587\",\"type\":\"GlyphRenderer\"},{\"attributes\":{},\"id\":\"2569\",\"type\":\"PanTool\"},{\"attributes\":{\"margin\":[5,5,5,5],\"name\":\"HSpacer05118\",\"sizing_mode\":\"stretch_width\"},\"id\":\"2609\",\"type\":\"Spacer\"},{\"attributes\":{},\"id\":\"2558\",\"type\":\"LinearScale\"},{\"attributes\":{\"axis_label\":\"Reward\",\"bounds\":\"auto\",\"formatter\":{\"id\":\"2591\"},\"major_label_orientation\":\"horizontal\",\"ticker\":{\"id\":\"2565\"}},\"id\":\"2564\",\"type\":\"LinearAxis\"},{\"attributes\":{\"data\":{\"Reward\":{\"__ndarray__\":\"AAAAAAAAAAAAAAAAAAAAAAAAAAAAAAAAAAAAAAAAAAAAAAAAAADQPwAAAAAAAOg/AAAAAAAA6D8AAAAAAADoPwAAAAAAAPA/AAAAAAAA8D9nISWt+28ZQCOnk+j1zhxAI6eT6PXOH0Ajp5Po9c4fQEhBJavowiBASEElq+jCIEBaPhUy1BoiQFv7cCGi3yJAm4u59jRdJEAHSx7mdfAkQAdLHuZ18CRA\",\"dtype\":\"float64\",\"order\":\"little\",\"shape\":[21]},\"index\":[0,1,2,3,4,5,6,7,8,9,10,11,12,13,14,15,16,17,18,19,20]},\"selected\":{\"id\":\"2582\"},\"selection_policy\":{\"id\":\"2600\"}},\"id\":\"2581\",\"type\":\"ColumnDataSource\"},{\"attributes\":{\"active_drag\":\"auto\",\"active_inspect\":\"auto\",\"active_multi\":null,\"active_scroll\":\"auto\",\"active_tap\":\"auto\",\"tools\":[{\"id\":\"2550\"},{\"id\":\"2568\"},{\"id\":\"2569\"},{\"id\":\"2570\"},{\"id\":\"2571\"},{\"id\":\"2572\"}]},\"id\":\"2574\",\"type\":\"Toolbar\"},{\"attributes\":{},\"id\":\"2572\",\"type\":\"ResetTool\"}],\"root_ids\":[\"2546\"]},\"title\":\"Bokeh Application\",\"version\":\"2.2.3\"}};\n",
       "    var render_items = [{\"docid\":\"64845085-30d0-40c4-9ad3-f074bb6b08be\",\"root_ids\":[\"2546\"],\"roots\":{\"2546\":\"e57d7ce5-542e-4ae0-8a8a-ba74a872f72b\"}}];\n",
       "    root.Bokeh.embed.embed_items_notebook(docs_json, render_items);\n",
       "  }\n",
       "  if (root.Bokeh !== undefined && root.Bokeh.Panel !== undefined) {\n",
       "    embed_document(root);\n",
       "  } else {\n",
       "    var attempts = 0;\n",
       "    var timer = setInterval(function(root) {\n",
       "      if (root.Bokeh !== undefined && root.Bokeh.Panel !== undefined) {\n",
       "        clearInterval(timer);\n",
       "        embed_document(root);\n",
       "      } else if (document.readyState == \"complete\") {\n",
       "        attempts++;\n",
       "        if (attempts > 100) {\n",
       "          clearInterval(timer);\n",
       "          console.log(\"Bokeh: ERROR: Unable to run BokehJS code because BokehJS library is missing\");\n",
       "        }\n",
       "      }\n",
       "    }, 10, root)\n",
       "  }\n",
       "})(window);</script>"
      ],
      "text/plain": [
       ":Curve   [index]   (Reward)"
      ]
     },
     "execution_count": 85,
     "metadata": {
      "application/vnd.holoviews_exec.v0+json": {
       "id": "2546"
      }
     },
     "output_type": "execute_result"
    }
   ],
   "source": [
    "df.hvplot(y='Reward')"
   ]
  },
  {
   "cell_type": "code",
   "execution_count": 86,
   "id": "streaming-shopping",
   "metadata": {},
   "outputs": [
    {
     "data": {},
     "metadata": {},
     "output_type": "display_data"
    },
    {
     "data": {
      "application/vnd.holoviews_exec.v0+json": "",
      "text/html": [
       "<div id='2651'>\n",
       "\n",
       "\n",
       "\n",
       "\n",
       "\n",
       "  <div class=\"bk-root\" id=\"d9d42de7-1e5e-4b88-9926-16d3bc70b615\" data-root-id=\"2651\"></div>\n",
       "</div>\n",
       "<script type=\"application/javascript\">(function(root) {\n",
       "  function embed_document(root) {\n",
       "    var docs_json = {\"80f69e8d-73d0-4589-ae22-8532edfa5088\":{\"roots\":{\"references\":[{\"attributes\":{\"label\":{\"value\":\"g4\"},\"renderers\":[{\"id\":\"2758\"}]},\"id\":\"2774\",\"type\":\"LegendItem\"},{\"attributes\":{\"data_source\":{\"id\":\"2752\"},\"glyph\":{\"id\":\"2755\"},\"hover_glyph\":null,\"muted_glyph\":{\"id\":\"2757\"},\"nonselection_glyph\":{\"id\":\"2756\"},\"selection_glyph\":null,\"view\":{\"id\":\"2759\"}},\"id\":\"2758\",\"type\":\"GlyphRenderer\"},{\"attributes\":{\"line_alpha\":0.1,\"line_color\":\"#d62628\",\"line_width\":2,\"x\":{\"field\":\"index\"},\"y\":{\"field\":\"value\"}},\"id\":\"2756\",\"type\":\"Line\"},{\"attributes\":{\"label\":{\"value\":\"g2\"},\"renderers\":[{\"id\":\"2718\"}]},\"id\":\"2730\",\"type\":\"LegendItem\"},{\"attributes\":{\"line_color\":\"#d62628\",\"line_width\":2,\"x\":{\"field\":\"index\"},\"y\":{\"field\":\"value\"}},\"id\":\"2755\",\"type\":\"Line\"},{\"attributes\":{\"bottom_units\":\"screen\",\"fill_alpha\":0.5,\"fill_color\":\"lightgrey\",\"left_units\":\"screen\",\"level\":\"overlay\",\"line_alpha\":1.0,\"line_color\":\"black\",\"line_dash\":[4,4],\"line_width\":2,\"right_units\":\"screen\",\"top_units\":\"screen\"},\"id\":\"2682\",\"type\":\"BoxAnnotation\"},{\"attributes\":{},\"id\":\"2753\",\"type\":\"Selection\"},{\"attributes\":{\"line_alpha\":0.2,\"line_color\":\"#d62628\",\"line_width\":2,\"x\":{\"field\":\"index\"},\"y\":{\"field\":\"value\"}},\"id\":\"2757\",\"type\":\"Line\"},{\"attributes\":{\"source\":{\"id\":\"2752\"}},\"id\":\"2759\",\"type\":\"CDSView\"},{\"attributes\":{\"label\":{\"value\":\"g5\"},\"renderers\":[{\"id\":\"2781\"}]},\"id\":\"2799\",\"type\":\"LegendItem\"},{\"attributes\":{},\"id\":\"2709\",\"type\":\"UnionRenderers\"},{\"attributes\":{\"line_color\":\"#ff7e0e\",\"line_width\":2,\"x\":{\"field\":\"index\"},\"y\":{\"field\":\"value\"}},\"id\":\"2715\",\"type\":\"Line\"},{\"attributes\":{},\"id\":\"2773\",\"type\":\"UnionRenderers\"},{\"attributes\":{\"line_alpha\":0.1,\"line_color\":\"#ff7e0e\",\"line_width\":2,\"x\":{\"field\":\"index\"},\"y\":{\"field\":\"value\"}},\"id\":\"2716\",\"type\":\"Line\"},{\"attributes\":{},\"id\":\"2729\",\"type\":\"UnionRenderers\"},{\"attributes\":{\"data_source\":{\"id\":\"2775\"},\"glyph\":{\"id\":\"2778\"},\"hover_glyph\":null,\"muted_glyph\":{\"id\":\"2780\"},\"nonselection_glyph\":{\"id\":\"2779\"},\"selection_glyph\":null,\"view\":{\"id\":\"2782\"}},\"id\":\"2781\",\"type\":\"GlyphRenderer\"},{\"attributes\":{\"data\":{\"Variable\":[\"g2\",\"g2\",\"g2\",\"g2\",\"g2\",\"g2\",\"g2\",\"g2\",\"g2\",\"g2\",\"g2\",\"g2\",\"g2\",\"g2\",\"g2\",\"g2\",\"g2\",\"g2\",\"g2\",\"g2\",\"g2\"],\"index\":[0,1,2,3,4,5,6,7,8,9,10,11,12,13,14,15,16,17,18,19,20],\"value\":{\"__ndarray__\":\"AAAAAAAAAABdSSyD5ArYP11JLIPkCtg/XUksg+QK2D9dSSyD5ArYP11JLIPkCtg/XUksg+QK2D9dSSyD5ArYP11JLIPkCtg/XUksg+QK2D9dSSyD5ArYP11JLIPkCtg/XUksg+QK2D9dSSyD5ArYP11JLIPkCtg/XUksg+QK2D9dSSyD5ArYP11JLIPkCtg/XUksg+QK2D9dSSyD5ArYP11JLIPkCtg/\",\"dtype\":\"float64\",\"order\":\"little\",\"shape\":[21]}},\"selected\":{\"id\":\"2713\"},\"selection_policy\":{\"id\":\"2729\"}},\"id\":\"2712\",\"type\":\"ColumnDataSource\"},{\"attributes\":{},\"id\":\"2713\",\"type\":\"Selection\"},{\"attributes\":{\"line_color\":\"#9367bc\",\"line_width\":2,\"x\":{\"field\":\"index\"},\"y\":{\"field\":\"value\"}},\"id\":\"2778\",\"type\":\"Line\"},{\"attributes\":{\"end\":20.0,\"reset_end\":20.0,\"reset_start\":0.0,\"tags\":[[[\"index\",\"index\",null]]]},\"id\":\"2653\",\"type\":\"Range1d\"},{\"attributes\":{},\"id\":\"2690\",\"type\":\"BasicTickFormatter\"},{\"attributes\":{\"line_alpha\":0.1,\"line_color\":\"#9367bc\",\"line_width\":2,\"x\":{\"field\":\"index\"},\"y\":{\"field\":\"value\"}},\"id\":\"2779\",\"type\":\"Line\"},{\"attributes\":{\"children\":[{\"id\":\"2652\"},{\"id\":\"2660\"},{\"id\":\"2944\"}],\"margin\":[0,0,0,0],\"name\":\"Row05401\",\"tags\":[\"embedded\"]},\"id\":\"2651\",\"type\":\"Row\"},{\"attributes\":{},\"id\":\"2776\",\"type\":\"Selection\"},{\"attributes\":{\"data_source\":{\"id\":\"2694\"},\"glyph\":{\"id\":\"2697\"},\"hover_glyph\":null,\"muted_glyph\":{\"id\":\"2699\"},\"nonselection_glyph\":{\"id\":\"2698\"},\"selection_glyph\":null,\"view\":{\"id\":\"2701\"}},\"id\":\"2700\",\"type\":\"GlyphRenderer\"},{\"attributes\":{\"text\":\"\",\"text_color\":{\"value\":\"black\"},\"text_font_size\":{\"value\":\"12pt\"}},\"id\":\"2661\",\"type\":\"Title\"},{\"attributes\":{\"line_alpha\":0.2,\"line_color\":\"#9367bc\",\"line_width\":2,\"x\":{\"field\":\"index\"},\"y\":{\"field\":\"value\"}},\"id\":\"2780\",\"type\":\"Line\"},{\"attributes\":{\"data\":{\"Variable\":[\"g3\",\"g3\",\"g3\",\"g3\",\"g3\",\"g3\",\"g3\",\"g3\",\"g3\",\"g3\",\"g3\",\"g3\",\"g3\",\"g3\",\"g3\",\"g3\",\"g3\",\"g3\",\"g3\",\"g3\",\"g3\"],\"index\":[0,1,2,3,4,5,6,7,8,9,10,11,12,13,14,15,16,17,18,19,20],\"value\":{\"__ndarray__\":\"AAAAAAAAAAAAAAAAAAAAAAAAAAAAAAAAAAAAAAAAAAAAAAAAAAAAAAAAAAAAAAAAAAAAAAAAAAAAAAAAAAAAAAAAAAAAAAAAAAAAAAAAAAAAAAAAAAAAAAAAAAAAAAAAAAAAAAAAAAAAAAAAAAAAAAAAAAAAAAAAAAAAAAAAAAAAAAAAAAAAAAAAAAAAAAAAAAAAAAAAAAAAAAAAAAAAAAAAAAAAAAAA\",\"dtype\":\"float64\",\"order\":\"little\",\"shape\":[21]}},\"selected\":{\"id\":\"2732\"},\"selection_policy\":{\"id\":\"2750\"}},\"id\":\"2731\",\"type\":\"ColumnDataSource\"},{\"attributes\":{\"data\":{\"Variable\":[\"g4\",\"g4\",\"g4\",\"g4\",\"g4\",\"g4\",\"g4\",\"g4\",\"g4\",\"g4\",\"g4\",\"g4\",\"g4\",\"g4\",\"g4\",\"g4\",\"g4\",\"g4\",\"g4\",\"g4\",\"g4\"],\"index\":[0,1,2,3,4,5,6,7,8,9,10,11,12,13,14,15,16,17,18,19,20],\"value\":{\"__ndarray__\":\"AAAAAAAAAAB3vJihj23RP3e8mKGPbdE/d7yYoY9t0T93vJihj23RP3e8mKGPbdE/d7yYoY9t0T93vJihj23RP3e8mKGPbdE/d7yYoY9t0T93vJihj23RP3e8mKGPbdE/d7yYoY9t0T93vJihj23RP3e8mKGPbdE/d7yYoY9t0T93vJihj23RP3e8mKGPbdE/d7yYoY9t0T93vJihj23RP3e8mKGPbdE/\",\"dtype\":\"float64\",\"order\":\"little\",\"shape\":[21]}},\"selected\":{\"id\":\"2753\"},\"selection_policy\":{\"id\":\"2773\"}},\"id\":\"2752\",\"type\":\"ColumnDataSource\"},{\"attributes\":{\"line_alpha\":0.2,\"line_color\":\"#1f77b3\",\"line_width\":2,\"x\":{\"field\":\"index\"},\"y\":{\"field\":\"value\"}},\"id\":\"2699\",\"type\":\"Line\"},{\"attributes\":{\"source\":{\"id\":\"2775\"}},\"id\":\"2782\",\"type\":\"CDSView\"},{\"attributes\":{\"data_source\":{\"id\":\"2731\"},\"glyph\":{\"id\":\"2734\"},\"hover_glyph\":null,\"muted_glyph\":{\"id\":\"2736\"},\"nonselection_glyph\":{\"id\":\"2735\"},\"selection_glyph\":null,\"view\":{\"id\":\"2738\"}},\"id\":\"2737\",\"type\":\"GlyphRenderer\"},{\"attributes\":{},\"id\":\"2667\",\"type\":\"LinearScale\"},{\"attributes\":{\"line_color\":\"#1f77b3\",\"line_width\":2,\"x\":{\"field\":\"index\"},\"y\":{\"field\":\"value\"}},\"id\":\"2697\",\"type\":\"Line\"},{\"attributes\":{\"data\":{\"Variable\":[\"g5\",\"g5\",\"g5\",\"g5\",\"g5\",\"g5\",\"g5\",\"g5\",\"g5\",\"g5\",\"g5\",\"g5\",\"g5\",\"g5\",\"g5\",\"g5\",\"g5\",\"g5\",\"g5\",\"g5\",\"g5\"],\"index\":[0,1,2,3,4,5,6,7,8,9,10,11,12,13,14,15,16,17,18,19,20],\"value\":{\"__ndarray__\":\"AAAAAAAAAAA/Uj+QMpfcPz9SP5Ayl9w/P1I/kDKX3D8/Uj+QMpfcPz9SP5Ayl9w/P1I/kDKX3D8/Uj+QMpfcPz9SP5Ayl9w/P1I/kDKX3D8/Uj+QMpfcPz9SP5Ayl9w/P1I/kDKX3D8/Uj+QMpfcPz9SP5Ayl9w/P1I/kDKX3D8/Uj+QMpfcPz9SP5Ayl9w/P1I/kDKX3D8/Uj+QMpfcPz9SP5Ayl9w/\",\"dtype\":\"float64\",\"order\":\"little\",\"shape\":[21]}},\"selected\":{\"id\":\"2776\"},\"selection_policy\":{\"id\":\"2798\"}},\"id\":\"2775\",\"type\":\"ColumnDataSource\"},{\"attributes\":{\"axis\":{\"id\":\"2669\"},\"grid_line_color\":null,\"ticker\":null},\"id\":\"2672\",\"type\":\"Grid\"},{\"attributes\":{},\"id\":\"2692\",\"type\":\"BasicTickFormatter\"},{\"attributes\":{\"line_alpha\":0.1,\"line_color\":\"#2ba02b\",\"line_width\":2,\"x\":{\"field\":\"index\"},\"y\":{\"field\":\"value\"}},\"id\":\"2735\",\"type\":\"Line\"},{\"attributes\":{\"callback\":null,\"renderers\":[{\"id\":\"2700\"},{\"id\":\"2718\"},{\"id\":\"2737\"},{\"id\":\"2758\"},{\"id\":\"2781\"}],\"tags\":[\"hv_created\"],\"tooltips\":[[\"Variable\",\"@{Variable}\"],[\"index\",\"@{index}\"],[\"value\",\"@{value}\"]]},\"id\":\"2655\",\"type\":\"HoverTool\"},{\"attributes\":{\"label\":{\"value\":\"g3\"},\"renderers\":[{\"id\":\"2737\"}]},\"id\":\"2751\",\"type\":\"LegendItem\"},{\"attributes\":{\"line_alpha\":0.1,\"line_color\":\"#1f77b3\",\"line_width\":2,\"x\":{\"field\":\"index\"},\"y\":{\"field\":\"value\"}},\"id\":\"2698\",\"type\":\"Line\"},{\"attributes\":{\"end\":0.491401200249869,\"reset_end\":0.491401200249869,\"reset_start\":-0.04467283638635173,\"start\":-0.04467283638635173,\"tags\":[[[\"value\",\"value\",null]]]},\"id\":\"2654\",\"type\":\"Range1d\"},{\"attributes\":{\"line_color\":\"#2ba02b\",\"line_width\":2,\"x\":{\"field\":\"index\"},\"y\":{\"field\":\"value\"}},\"id\":\"2734\",\"type\":\"Line\"},{\"attributes\":{\"data\":{\"Variable\":[\"g1\",\"g1\",\"g1\",\"g1\",\"g1\",\"g1\",\"g1\",\"g1\",\"g1\",\"g1\",\"g1\",\"g1\",\"g1\",\"g1\",\"g1\",\"g1\",\"g1\",\"g1\",\"g1\",\"g1\",\"g1\"],\"index\":[0,1,2,3,4,5,6,7,8,9,10,11,12,13,14,15,16,17,18,19,20],\"value\":{\"__ndarray__\":\"AAAAAAAAAAA7A+GQlvnPPzsD4ZCW+c8/OwPhkJb5zz87A+GQlvnPPzsD4ZCW+c8/OwPhkJb5zz87A+GQlvnPPzsD4ZCW+c8/OwPhkJb5zz87A+GQlvnPPzsD4ZCW+c8/OwPhkJb5zz87A+GQlvnPPzsD4ZCW+c8/OwPhkJb5zz87A+GQlvnPPzsD4ZCW+c8/OwPhkJb5zz87A+GQlvnPPzsD4ZCW+c8/\",\"dtype\":\"float64\",\"order\":\"little\",\"shape\":[21]}},\"selected\":{\"id\":\"2695\"},\"selection_policy\":{\"id\":\"2709\"}},\"id\":\"2694\",\"type\":\"ColumnDataSource\"},{\"attributes\":{},\"id\":\"2678\",\"type\":\"PanTool\"},{\"attributes\":{\"label\":{\"value\":\"g1\"},\"renderers\":[{\"id\":\"2700\"}]},\"id\":\"2711\",\"type\":\"LegendItem\"},{\"attributes\":{},\"id\":\"2732\",\"type\":\"Selection\"},{\"attributes\":{\"click_policy\":\"mute\",\"items\":[{\"id\":\"2711\"},{\"id\":\"2730\"},{\"id\":\"2751\"},{\"id\":\"2774\"},{\"id\":\"2799\"}],\"location\":[0,0],\"title\":\"Variable\"},\"id\":\"2710\",\"type\":\"Legend\"},{\"attributes\":{\"line_alpha\":0.2,\"line_color\":\"#2ba02b\",\"line_width\":2,\"x\":{\"field\":\"index\"},\"y\":{\"field\":\"value\"}},\"id\":\"2736\",\"type\":\"Line\"},{\"attributes\":{\"margin\":[5,5,5,5],\"name\":\"HSpacer05405\",\"sizing_mode\":\"stretch_width\"},\"id\":\"2652\",\"type\":\"Spacer\"},{\"attributes\":{\"below\":[{\"id\":\"2669\"}],\"center\":[{\"id\":\"2672\"},{\"id\":\"2676\"}],\"left\":[{\"id\":\"2673\"}],\"margin\":[5,5,5,5],\"min_border_bottom\":10,\"min_border_left\":10,\"min_border_right\":10,\"min_border_top\":10,\"plot_height\":300,\"plot_width\":700,\"renderers\":[{\"id\":\"2700\"},{\"id\":\"2718\"},{\"id\":\"2737\"},{\"id\":\"2758\"},{\"id\":\"2781\"}],\"right\":[{\"id\":\"2710\"}],\"sizing_mode\":\"fixed\",\"title\":{\"id\":\"2661\"},\"toolbar\":{\"id\":\"2683\"},\"x_range\":{\"id\":\"2653\"},\"x_scale\":{\"id\":\"2665\"},\"y_range\":{\"id\":\"2654\"},\"y_scale\":{\"id\":\"2667\"}},\"id\":\"2660\",\"subtype\":\"Figure\",\"type\":\"Plot\"},{\"attributes\":{},\"id\":\"2695\",\"type\":\"Selection\"},{\"attributes\":{\"source\":{\"id\":\"2731\"}},\"id\":\"2738\",\"type\":\"CDSView\"},{\"attributes\":{},\"id\":\"2798\",\"type\":\"UnionRenderers\"},{\"attributes\":{\"axis\":{\"id\":\"2673\"},\"dimension\":1,\"grid_line_color\":null,\"ticker\":null},\"id\":\"2676\",\"type\":\"Grid\"},{\"attributes\":{\"axis_label\":\"\",\"bounds\":\"auto\",\"formatter\":{\"id\":\"2690\"},\"major_label_orientation\":\"horizontal\",\"ticker\":{\"id\":\"2670\"}},\"id\":\"2669\",\"type\":\"LinearAxis\"},{\"attributes\":{\"source\":{\"id\":\"2694\"}},\"id\":\"2701\",\"type\":\"CDSView\"},{\"attributes\":{},\"id\":\"2665\",\"type\":\"LinearScale\"},{\"attributes\":{},\"id\":\"2677\",\"type\":\"SaveTool\"},{\"attributes\":{},\"id\":\"2674\",\"type\":\"BasicTicker\"},{\"attributes\":{\"line_alpha\":0.2,\"line_color\":\"#ff7e0e\",\"line_width\":2,\"x\":{\"field\":\"index\"},\"y\":{\"field\":\"value\"}},\"id\":\"2717\",\"type\":\"Line\"},{\"attributes\":{},\"id\":\"2670\",\"type\":\"BasicTicker\"},{\"attributes\":{\"margin\":[5,5,5,5],\"name\":\"HSpacer05406\",\"sizing_mode\":\"stretch_width\"},\"id\":\"2944\",\"type\":\"Spacer\"},{\"attributes\":{},\"id\":\"2679\",\"type\":\"WheelZoomTool\"},{\"attributes\":{\"axis_label\":\"\",\"bounds\":\"auto\",\"formatter\":{\"id\":\"2692\"},\"major_label_orientation\":\"horizontal\",\"ticker\":{\"id\":\"2674\"}},\"id\":\"2673\",\"type\":\"LinearAxis\"},{\"attributes\":{\"overlay\":{\"id\":\"2682\"}},\"id\":\"2680\",\"type\":\"BoxZoomTool\"},{\"attributes\":{},\"id\":\"2681\",\"type\":\"ResetTool\"},{\"attributes\":{},\"id\":\"2750\",\"type\":\"UnionRenderers\"},{\"attributes\":{\"active_drag\":\"auto\",\"active_inspect\":\"auto\",\"active_multi\":null,\"active_scroll\":\"auto\",\"active_tap\":\"auto\",\"tools\":[{\"id\":\"2655\"},{\"id\":\"2677\"},{\"id\":\"2678\"},{\"id\":\"2679\"},{\"id\":\"2680\"},{\"id\":\"2681\"}]},\"id\":\"2683\",\"type\":\"Toolbar\"},{\"attributes\":{\"source\":{\"id\":\"2712\"}},\"id\":\"2719\",\"type\":\"CDSView\"},{\"attributes\":{\"data_source\":{\"id\":\"2712\"},\"glyph\":{\"id\":\"2715\"},\"hover_glyph\":null,\"muted_glyph\":{\"id\":\"2717\"},\"nonselection_glyph\":{\"id\":\"2716\"},\"selection_glyph\":null,\"view\":{\"id\":\"2719\"}},\"id\":\"2718\",\"type\":\"GlyphRenderer\"}],\"root_ids\":[\"2651\"]},\"title\":\"Bokeh Application\",\"version\":\"2.2.3\"}};\n",
       "    var render_items = [{\"docid\":\"80f69e8d-73d0-4589-ae22-8532edfa5088\",\"root_ids\":[\"2651\"],\"roots\":{\"2651\":\"d9d42de7-1e5e-4b88-9926-16d3bc70b615\"}}];\n",
       "    root.Bokeh.embed.embed_items_notebook(docs_json, render_items);\n",
       "  }\n",
       "  if (root.Bokeh !== undefined && root.Bokeh.Panel !== undefined) {\n",
       "    embed_document(root);\n",
       "  } else {\n",
       "    var attempts = 0;\n",
       "    var timer = setInterval(function(root) {\n",
       "      if (root.Bokeh !== undefined && root.Bokeh.Panel !== undefined) {\n",
       "        clearInterval(timer);\n",
       "        embed_document(root);\n",
       "      } else if (document.readyState == \"complete\") {\n",
       "        attempts++;\n",
       "        if (attempts > 100) {\n",
       "          clearInterval(timer);\n",
       "          console.log(\"Bokeh: ERROR: Unable to run BokehJS code because BokehJS library is missing\");\n",
       "        }\n",
       "      }\n",
       "    }, 10, root)\n",
       "  }\n",
       "})(window);</script>"
      ],
      "text/plain": [
       ":NdOverlay   [Variable]\n",
       "   :Curve   [index]   (value)"
      ]
     },
     "execution_count": 86,
     "metadata": {
      "application/vnd.holoviews_exec.v0+json": {
       "id": "2651"
      }
     },
     "output_type": "execute_result"
    }
   ],
   "source": [
    "df.hvplot(y=['g1','g2','g3','g4', 'g5'])"
   ]
  },
  {
   "cell_type": "code",
   "execution_count": 87,
   "id": "final-heading",
   "metadata": {},
   "outputs": [
    {
     "data": {},
     "metadata": {},
     "output_type": "display_data"
    },
    {
     "data": {
      "application/vnd.holoviews_exec.v0+json": "",
      "text/html": [
       "<div id='3026'>\n",
       "\n",
       "\n",
       "\n",
       "\n",
       "\n",
       "  <div class=\"bk-root\" id=\"7bb7bfd0-d43b-4b37-894b-4049c4d9e0f7\" data-root-id=\"3026\"></div>\n",
       "</div>\n",
       "<script type=\"application/javascript\">(function(root) {\n",
       "  function embed_document(root) {\n",
       "    var docs_json = {\"59804561-8d32-4c6e-b249-cc7e7eebd56e\":{\"roots\":{\"references\":[{\"attributes\":{},\"id\":\"3084\",\"type\":\"UnionRenderers\"},{\"attributes\":{\"end\":36.29635913260603,\"reset_end\":36.29635913260603,\"reset_start\":7.609421897035816,\"start\":7.609421897035816,\"tags\":[[[\"value\",\"value\",null]]]},\"id\":\"3029\",\"type\":\"Range1d\"},{\"attributes\":{\"end\":20.0,\"reset_end\":20.0,\"reset_start\":0.0,\"tags\":[[[\"index\",\"index\",null]]]},\"id\":\"3028\",\"type\":\"Range1d\"},{\"attributes\":{},\"id\":\"3054\",\"type\":\"WheelZoomTool\"},{\"attributes\":{},\"id\":\"3053\",\"type\":\"PanTool\"},{\"attributes\":{},\"id\":\"3067\",\"type\":\"BasicTickFormatter\"},{\"attributes\":{},\"id\":\"3042\",\"type\":\"LinearScale\"},{\"attributes\":{\"text\":\"\",\"text_color\":{\"value\":\"black\"},\"text_font_size\":{\"value\":\"12pt\"}},\"id\":\"3036\",\"type\":\"Title\"},{\"attributes\":{\"line_color\":\"#ff7e0e\",\"line_width\":2,\"x\":{\"field\":\"index\"},\"y\":{\"field\":\"value\"}},\"id\":\"3090\",\"type\":\"Line\"},{\"attributes\":{\"callback\":null,\"renderers\":[{\"id\":\"3075\"},{\"id\":\"3093\"},{\"id\":\"3112\"},{\"id\":\"3133\"},{\"id\":\"3156\"}],\"tags\":[\"hv_created\"],\"tooltips\":[[\"Variable\",\"@{Variable}\"],[\"index\",\"@{index}\"],[\"value\",\"@{value}\"]]},\"id\":\"3030\",\"type\":\"HoverTool\"},{\"attributes\":{},\"id\":\"3148\",\"type\":\"UnionRenderers\"},{\"attributes\":{\"active_drag\":\"auto\",\"active_inspect\":\"auto\",\"active_multi\":null,\"active_scroll\":\"auto\",\"active_tap\":\"auto\",\"tools\":[{\"id\":\"3030\"},{\"id\":\"3052\"},{\"id\":\"3053\"},{\"id\":\"3054\"},{\"id\":\"3055\"},{\"id\":\"3056\"}]},\"id\":\"3058\",\"type\":\"Toolbar\"},{\"attributes\":{\"axis\":{\"id\":\"3044\"},\"grid_line_color\":null,\"ticker\":null},\"id\":\"3047\",\"type\":\"Grid\"},{\"attributes\":{\"line_alpha\":0.1,\"line_color\":\"#ff7e0e\",\"line_width\":2,\"x\":{\"field\":\"index\"},\"y\":{\"field\":\"value\"}},\"id\":\"3091\",\"type\":\"Line\"},{\"attributes\":{\"data_source\":{\"id\":\"3150\"},\"glyph\":{\"id\":\"3153\"},\"hover_glyph\":null,\"muted_glyph\":{\"id\":\"3155\"},\"nonselection_glyph\":{\"id\":\"3154\"},\"selection_glyph\":null,\"view\":{\"id\":\"3157\"}},\"id\":\"3156\",\"type\":\"GlyphRenderer\"},{\"attributes\":{},\"id\":\"3104\",\"type\":\"UnionRenderers\"},{\"attributes\":{\"label\":{\"value\":\"s1\"},\"renderers\":[{\"id\":\"3075\"}]},\"id\":\"3086\",\"type\":\"LegendItem\"},{\"attributes\":{\"label\":{\"value\":\"s5\"},\"renderers\":[{\"id\":\"3156\"}]},\"id\":\"3174\",\"type\":\"LegendItem\"},{\"attributes\":{\"margin\":[5,5,5,5],\"name\":\"HSpacer06337\",\"sizing_mode\":\"stretch_width\"},\"id\":\"3027\",\"type\":\"Spacer\"},{\"attributes\":{},\"id\":\"3088\",\"type\":\"Selection\"},{\"attributes\":{\"line_alpha\":0.2,\"line_color\":\"#1f77b3\",\"line_width\":2,\"x\":{\"field\":\"index\"},\"y\":{\"field\":\"value\"}},\"id\":\"3074\",\"type\":\"Line\"},{\"attributes\":{\"line_color\":\"#9367bc\",\"line_width\":2,\"x\":{\"field\":\"index\"},\"y\":{\"field\":\"value\"}},\"id\":\"3153\",\"type\":\"Line\"},{\"attributes\":{\"line_alpha\":0.1,\"line_color\":\"#9367bc\",\"line_width\":2,\"x\":{\"field\":\"index\"},\"y\":{\"field\":\"value\"}},\"id\":\"3154\",\"type\":\"Line\"},{\"attributes\":{\"below\":[{\"id\":\"3044\"}],\"center\":[{\"id\":\"3047\"},{\"id\":\"3051\"}],\"left\":[{\"id\":\"3048\"}],\"margin\":[5,5,5,5],\"min_border_bottom\":10,\"min_border_left\":10,\"min_border_right\":10,\"min_border_top\":10,\"plot_height\":300,\"plot_width\":700,\"renderers\":[{\"id\":\"3075\"},{\"id\":\"3093\"},{\"id\":\"3112\"},{\"id\":\"3133\"},{\"id\":\"3156\"}],\"right\":[{\"id\":\"3085\"}],\"sizing_mode\":\"fixed\",\"title\":{\"id\":\"3036\"},\"toolbar\":{\"id\":\"3058\"},\"x_range\":{\"id\":\"3028\"},\"x_scale\":{\"id\":\"3040\"},\"y_range\":{\"id\":\"3029\"},\"y_scale\":{\"id\":\"3042\"}},\"id\":\"3035\",\"subtype\":\"Figure\",\"type\":\"Plot\"},{\"attributes\":{},\"id\":\"3151\",\"type\":\"Selection\"},{\"attributes\":{},\"id\":\"3056\",\"type\":\"ResetTool\"},{\"attributes\":{\"line_alpha\":0.2,\"line_color\":\"#9367bc\",\"line_width\":2,\"x\":{\"field\":\"index\"},\"y\":{\"field\":\"value\"}},\"id\":\"3155\",\"type\":\"Line\"},{\"attributes\":{\"axis\":{\"id\":\"3048\"},\"dimension\":1,\"grid_line_color\":null,\"ticker\":null},\"id\":\"3051\",\"type\":\"Grid\"},{\"attributes\":{\"data\":{\"Variable\":[\"s3\",\"s3\",\"s3\",\"s3\",\"s3\",\"s3\",\"s3\",\"s3\",\"s3\",\"s3\",\"s3\",\"s3\",\"s3\",\"s3\",\"s3\",\"s3\",\"s3\",\"s3\",\"s3\",\"s3\",\"s3\"],\"index\":[0,1,2,3,4,5,6,7,8,9,10,11,12,13,14,15,16,17,18,19,20],\"value\":{\"__ndarray__\":\"AAAAAAAAJEBNwVZKqFglQE3BVkqoWCVATcFWSqhYJUBNwVZKqFglQE3BVkqoWCVATcFWSqhYJUBNwVZKqFglQE3BVkqoWCVATcFWSqhYJUBNwVZKqFglQE3BVkqoWCVATcFWSqhYJUBNwVZKqFglQE3BVkqoWCVATcFWSqhYJUBNwVZKqFglQE3BVkqoWCVATcFWSqhYJUBNwVZKqFglQE3BVkqoWCVA\",\"dtype\":\"float64\",\"order\":\"little\",\"shape\":[21]}},\"selected\":{\"id\":\"3107\"},\"selection_policy\":{\"id\":\"3125\"}},\"id\":\"3106\",\"type\":\"ColumnDataSource\"},{\"attributes\":{\"source\":{\"id\":\"3150\"}},\"id\":\"3157\",\"type\":\"CDSView\"},{\"attributes\":{\"axis_label\":\"\",\"bounds\":\"auto\",\"formatter\":{\"id\":\"3065\"},\"major_label_orientation\":\"horizontal\",\"ticker\":{\"id\":\"3045\"}},\"id\":\"3044\",\"type\":\"LinearAxis\"},{\"attributes\":{},\"id\":\"3040\",\"type\":\"LinearScale\"},{\"attributes\":{\"data\":{\"Variable\":[\"s1\",\"s1\",\"s1\",\"s1\",\"s1\",\"s1\",\"s1\",\"s1\",\"s1\",\"s1\",\"s1\",\"s1\",\"s1\",\"s1\",\"s1\",\"s1\",\"s1\",\"s1\",\"s1\",\"s1\",\"s1\"],\"index\":[0,1,2,3,4,5,6,7,8,9,10,11,12,13,14,15,16,17,18,19,20],\"value\":{\"__ndarray__\":\"AAAAAAAAJEAQ0/2h8PNAQBDT/aHw80BAENP9ofDzQEAQ0/2h8PNAQBDT/aHw80BAENP9ofDzQEAQ0/2h8PNAQBDT/aHw80BAENP9ofDzQEAQ0/2h8PNAQBDT/aHw80BAENP9ofDzQEAQ0/2h8PNAQBDT/aHw80BAENP9ofDzQEAQ0/2h8PNAQBDT/aHw80BAENP9ofDzQEAQ0/2h8PNAQBDT/aHw80BA\",\"dtype\":\"float64\",\"order\":\"little\",\"shape\":[21]}},\"selected\":{\"id\":\"3070\"},\"selection_policy\":{\"id\":\"3084\"}},\"id\":\"3069\",\"type\":\"ColumnDataSource\"},{\"attributes\":{\"data_source\":{\"id\":\"3069\"},\"glyph\":{\"id\":\"3072\"},\"hover_glyph\":null,\"muted_glyph\":{\"id\":\"3074\"},\"nonselection_glyph\":{\"id\":\"3073\"},\"selection_glyph\":null,\"view\":{\"id\":\"3076\"}},\"id\":\"3075\",\"type\":\"GlyphRenderer\"},{\"attributes\":{\"data_source\":{\"id\":\"3106\"},\"glyph\":{\"id\":\"3109\"},\"hover_glyph\":null,\"muted_glyph\":{\"id\":\"3111\"},\"nonselection_glyph\":{\"id\":\"3110\"},\"selection_glyph\":null,\"view\":{\"id\":\"3113\"}},\"id\":\"3112\",\"type\":\"GlyphRenderer\"},{\"attributes\":{},\"id\":\"3052\",\"type\":\"SaveTool\"},{\"attributes\":{},\"id\":\"3049\",\"type\":\"BasicTicker\"},{\"attributes\":{\"margin\":[5,5,5,5],\"name\":\"HSpacer06338\",\"sizing_mode\":\"stretch_width\"},\"id\":\"3319\",\"type\":\"Spacer\"},{\"attributes\":{\"line_alpha\":0.1,\"line_color\":\"#1f77b3\",\"line_width\":2,\"x\":{\"field\":\"index\"},\"y\":{\"field\":\"value\"}},\"id\":\"3073\",\"type\":\"Line\"},{\"attributes\":{\"children\":[{\"id\":\"3027\"},{\"id\":\"3035\"},{\"id\":\"3319\"}],\"margin\":[0,0,0,0],\"name\":\"Row06333\",\"tags\":[\"embedded\"]},\"id\":\"3026\",\"type\":\"Row\"},{\"attributes\":{\"line_alpha\":0.1,\"line_color\":\"#2ba02b\",\"line_width\":2,\"x\":{\"field\":\"index\"},\"y\":{\"field\":\"value\"}},\"id\":\"3110\",\"type\":\"Line\"},{\"attributes\":{},\"id\":\"3045\",\"type\":\"BasicTicker\"},{\"attributes\":{\"label\":{\"value\":\"s3\"},\"renderers\":[{\"id\":\"3112\"}]},\"id\":\"3126\",\"type\":\"LegendItem\"},{\"attributes\":{\"line_color\":\"#2ba02b\",\"line_width\":2,\"x\":{\"field\":\"index\"},\"y\":{\"field\":\"value\"}},\"id\":\"3109\",\"type\":\"Line\"},{\"attributes\":{\"axis_label\":\"\",\"bounds\":\"auto\",\"formatter\":{\"id\":\"3067\"},\"major_label_orientation\":\"horizontal\",\"ticker\":{\"id\":\"3049\"}},\"id\":\"3048\",\"type\":\"LinearAxis\"},{\"attributes\":{\"overlay\":{\"id\":\"3057\"}},\"id\":\"3055\",\"type\":\"BoxZoomTool\"},{\"attributes\":{\"line_color\":\"#1f77b3\",\"line_width\":2,\"x\":{\"field\":\"index\"},\"y\":{\"field\":\"value\"}},\"id\":\"3072\",\"type\":\"Line\"},{\"attributes\":{},\"id\":\"3107\",\"type\":\"Selection\"},{\"attributes\":{\"click_policy\":\"mute\",\"items\":[{\"id\":\"3086\"},{\"id\":\"3105\"},{\"id\":\"3126\"},{\"id\":\"3149\"},{\"id\":\"3174\"}],\"location\":[0,0],\"title\":\"Variable\"},\"id\":\"3085\",\"type\":\"Legend\"},{\"attributes\":{\"line_alpha\":0.2,\"line_color\":\"#2ba02b\",\"line_width\":2,\"x\":{\"field\":\"index\"},\"y\":{\"field\":\"value\"}},\"id\":\"3111\",\"type\":\"Line\"},{\"attributes\":{\"data\":{\"Variable\":[\"s4\",\"s4\",\"s4\",\"s4\",\"s4\",\"s4\",\"s4\",\"s4\",\"s4\",\"s4\",\"s4\",\"s4\",\"s4\",\"s4\",\"s4\",\"s4\",\"s4\",\"s4\",\"s4\",\"s4\",\"s4\"],\"index\":[0,1,2,3,4,5,6,7,8,9,10,11,12,13,14,15,16,17,18,19,20],\"value\":{\"__ndarray__\":\"AAAAAAAAJEATNoJyWc83QBM2gnJZzzdAEzaCclnPN0ATNoJyWc83QBM2gnJZzzdAEzaCclnPN0ATNoJyWc83QBM2gnJZzzdAEzaCclnPN0ATNoJyWc83QBM2gnJZzzdAEzaCclnPN0ATNoJyWc83QBM2gnJZzzdAEzaCclnPN0ATNoJyWc83QBM2gnJZzzdAEzaCclnPN0ATNoJyWc83QBM2gnJZzzdA\",\"dtype\":\"float64\",\"order\":\"little\",\"shape\":[21]}},\"selected\":{\"id\":\"3128\"},\"selection_policy\":{\"id\":\"3148\"}},\"id\":\"3127\",\"type\":\"ColumnDataSource\"},{\"attributes\":{\"source\":{\"id\":\"3106\"}},\"id\":\"3113\",\"type\":\"CDSView\"},{\"attributes\":{},\"id\":\"3173\",\"type\":\"UnionRenderers\"},{\"attributes\":{\"data\":{\"Variable\":[\"s5\",\"s5\",\"s5\",\"s5\",\"s5\",\"s5\",\"s5\",\"s5\",\"s5\",\"s5\",\"s5\",\"s5\",\"s5\",\"s5\",\"s5\",\"s5\",\"s5\",\"s5\",\"s5\",\"s5\",\"s5\"],\"index\":[0,1,2,3,4,5,6,7,8,9,10,11,12,13,14,15,16,17,18,19,20],\"value\":{\"__ndarray__\":\"AAAAAAAAJECSJTWfRjEwQJIlNZ9GMTBAkiU1n0YxMECSJTWfRjEwQJIlNZ9GMTBAkiU1n0YxMECSJTWfRjEwQJIlNZ9GMTBAkiU1n0YxMECSJTWfRjEwQJIlNZ9GMTBAkiU1n0YxMECSJTWfRjEwQJIlNZ9GMTBAkiU1n0YxMECSJTWfRjEwQJIlNZ9GMTBAkiU1n0YxMECSJTWfRjEwQJIlNZ9GMTBA\",\"dtype\":\"float64\",\"order\":\"little\",\"shape\":[21]}},\"selected\":{\"id\":\"3151\"},\"selection_policy\":{\"id\":\"3173\"}},\"id\":\"3150\",\"type\":\"ColumnDataSource\"},{\"attributes\":{\"source\":{\"id\":\"3069\"}},\"id\":\"3076\",\"type\":\"CDSView\"},{\"attributes\":{\"line_alpha\":0.2,\"line_color\":\"#ff7e0e\",\"line_width\":2,\"x\":{\"field\":\"index\"},\"y\":{\"field\":\"value\"}},\"id\":\"3092\",\"type\":\"Line\"},{\"attributes\":{\"source\":{\"id\":\"3087\"}},\"id\":\"3094\",\"type\":\"CDSView\"},{\"attributes\":{\"data_source\":{\"id\":\"3087\"},\"glyph\":{\"id\":\"3090\"},\"hover_glyph\":null,\"muted_glyph\":{\"id\":\"3092\"},\"nonselection_glyph\":{\"id\":\"3091\"},\"selection_glyph\":null,\"view\":{\"id\":\"3094\"}},\"id\":\"3093\",\"type\":\"GlyphRenderer\"},{\"attributes\":{\"bottom_units\":\"screen\",\"fill_alpha\":0.5,\"fill_color\":\"lightgrey\",\"left_units\":\"screen\",\"level\":\"overlay\",\"line_alpha\":1.0,\"line_color\":\"black\",\"line_dash\":[4,4],\"line_width\":2,\"right_units\":\"screen\",\"top_units\":\"screen\"},\"id\":\"3057\",\"type\":\"BoxAnnotation\"},{\"attributes\":{},\"id\":\"3125\",\"type\":\"UnionRenderers\"},{\"attributes\":{\"data_source\":{\"id\":\"3127\"},\"glyph\":{\"id\":\"3130\"},\"hover_glyph\":null,\"muted_glyph\":{\"id\":\"3132\"},\"nonselection_glyph\":{\"id\":\"3131\"},\"selection_glyph\":null,\"view\":{\"id\":\"3134\"}},\"id\":\"3133\",\"type\":\"GlyphRenderer\"},{\"attributes\":{\"data\":{\"Variable\":[\"s2\",\"s2\",\"s2\",\"s2\",\"s2\",\"s2\",\"s2\",\"s2\",\"s2\",\"s2\",\"s2\",\"s2\",\"s2\",\"s2\",\"s2\",\"s2\",\"s2\",\"s2\",\"s2\",\"s2\",\"s2\"],\"index\":[0,1,2,3,4,5,6,7,8,9,10,11,12,13,14,15,16,17,18,19,20],\"value\":{\"__ndarray__\":\"AAAAAAAAJECqY/Vkg2sxQKpj9WSDazFAqmP1ZINrMUCqY/Vkg2sxQKpj9WSDazFAqmP1ZINrMUCqY/Vkg2sxQKpj9WSDazFAqmP1ZINrMUCqY/Vkg2sxQKpj9WSDazFAqmP1ZINrMUCqY/Vkg2sxQKpj9WSDazFAqmP1ZINrMUCqY/Vkg2sxQKpj9WSDazFAqmP1ZINrMUCqY/Vkg2sxQKpj9WSDazFA\",\"dtype\":\"float64\",\"order\":\"little\",\"shape\":[21]}},\"selected\":{\"id\":\"3088\"},\"selection_policy\":{\"id\":\"3104\"}},\"id\":\"3087\",\"type\":\"ColumnDataSource\"},{\"attributes\":{},\"id\":\"3070\",\"type\":\"Selection\"},{\"attributes\":{\"line_alpha\":0.1,\"line_color\":\"#d62628\",\"line_width\":2,\"x\":{\"field\":\"index\"},\"y\":{\"field\":\"value\"}},\"id\":\"3131\",\"type\":\"Line\"},{\"attributes\":{\"line_color\":\"#d62628\",\"line_width\":2,\"x\":{\"field\":\"index\"},\"y\":{\"field\":\"value\"}},\"id\":\"3130\",\"type\":\"Line\"},{\"attributes\":{\"label\":{\"value\":\"s2\"},\"renderers\":[{\"id\":\"3093\"}]},\"id\":\"3105\",\"type\":\"LegendItem\"},{\"attributes\":{},\"id\":\"3128\",\"type\":\"Selection\"},{\"attributes\":{\"source\":{\"id\":\"3127\"}},\"id\":\"3134\",\"type\":\"CDSView\"},{\"attributes\":{\"line_alpha\":0.2,\"line_color\":\"#d62628\",\"line_width\":2,\"x\":{\"field\":\"index\"},\"y\":{\"field\":\"value\"}},\"id\":\"3132\",\"type\":\"Line\"},{\"attributes\":{},\"id\":\"3065\",\"type\":\"BasicTickFormatter\"},{\"attributes\":{\"label\":{\"value\":\"s4\"},\"renderers\":[{\"id\":\"3133\"}]},\"id\":\"3149\",\"type\":\"LegendItem\"}],\"root_ids\":[\"3026\"]},\"title\":\"Bokeh Application\",\"version\":\"2.2.3\"}};\n",
       "    var render_items = [{\"docid\":\"59804561-8d32-4c6e-b249-cc7e7eebd56e\",\"root_ids\":[\"3026\"],\"roots\":{\"3026\":\"7bb7bfd0-d43b-4b37-894b-4049c4d9e0f7\"}}];\n",
       "    root.Bokeh.embed.embed_items_notebook(docs_json, render_items);\n",
       "  }\n",
       "  if (root.Bokeh !== undefined && root.Bokeh.Panel !== undefined) {\n",
       "    embed_document(root);\n",
       "  } else {\n",
       "    var attempts = 0;\n",
       "    var timer = setInterval(function(root) {\n",
       "      if (root.Bokeh !== undefined && root.Bokeh.Panel !== undefined) {\n",
       "        clearInterval(timer);\n",
       "        embed_document(root);\n",
       "      } else if (document.readyState == \"complete\") {\n",
       "        attempts++;\n",
       "        if (attempts > 100) {\n",
       "          clearInterval(timer);\n",
       "          console.log(\"Bokeh: ERROR: Unable to run BokehJS code because BokehJS library is missing\");\n",
       "        }\n",
       "      }\n",
       "    }, 10, root)\n",
       "  }\n",
       "})(window);</script>"
      ],
      "text/plain": [
       ":NdOverlay   [Variable]\n",
       "   :Curve   [index]   (value)"
      ]
     },
     "execution_count": 87,
     "metadata": {
      "application/vnd.holoviews_exec.v0+json": {
       "id": "3026"
      }
     },
     "output_type": "execute_result"
    }
   ],
   "source": [
    "df.hvplot(y=['s1','s2','s3','s4', 's5'])"
   ]
  },
  {
   "cell_type": "code",
   "execution_count": 88,
   "id": "vocal-cycling",
   "metadata": {},
   "outputs": [
    {
     "data": {},
     "metadata": {},
     "output_type": "display_data"
    },
    {
     "data": {
      "application/vnd.holoviews_exec.v0+json": "",
      "text/html": [
       "<div id='3401'>\n",
       "\n",
       "\n",
       "\n",
       "\n",
       "\n",
       "  <div class=\"bk-root\" id=\"acd8fdb4-76d1-433c-90ae-98b210cf05b1\" data-root-id=\"3401\"></div>\n",
       "</div>\n",
       "<script type=\"application/javascript\">(function(root) {\n",
       "  function embed_document(root) {\n",
       "    var docs_json = {\"27df82f8-77f4-44c4-be36-b71b4d5425b9\":{\"roots\":{\"references\":[{\"attributes\":{\"line_color\":\"#1f77b3\",\"line_width\":2,\"x\":{\"field\":\"index\"},\"y\":{\"field\":\"Balance\"}},\"id\":\"3439\",\"type\":\"Line\"},{\"attributes\":{\"children\":[{\"id\":\"3402\"},{\"id\":\"3406\"},{\"id\":\"3464\"}],\"margin\":[0,0,0,0],\"name\":\"Row07174\",\"tags\":[\"embedded\"]},\"id\":\"3401\",\"type\":\"Row\"},{\"attributes\":{},\"id\":\"3444\",\"type\":\"BasicTickFormatter\"},{\"attributes\":{\"line_alpha\":0.1,\"line_color\":\"#1f77b3\",\"line_width\":2,\"x\":{\"field\":\"index\"},\"y\":{\"field\":\"Balance\"}},\"id\":\"3440\",\"type\":\"Line\"},{\"attributes\":{},\"id\":\"3437\",\"type\":\"Selection\"},{\"attributes\":{\"data_source\":{\"id\":\"3436\"},\"glyph\":{\"id\":\"3439\"},\"hover_glyph\":null,\"muted_glyph\":{\"id\":\"3441\"},\"nonselection_glyph\":{\"id\":\"3440\"},\"selection_glyph\":null,\"view\":{\"id\":\"3443\"}},\"id\":\"3442\",\"type\":\"GlyphRenderer\"},{\"attributes\":{\"callback\":null,\"renderers\":[{\"id\":\"3442\"}],\"tags\":[\"hv_created\"],\"tooltips\":[[\"index\",\"@{index}\"],[\"Balance\",\"@{Balance}\"]]},\"id\":\"3405\",\"type\":\"HoverTool\"},{\"attributes\":{\"line_alpha\":0.2,\"line_color\":\"#1f77b3\",\"line_width\":2,\"x\":{\"field\":\"index\"},\"y\":{\"field\":\"Balance\"}},\"id\":\"3441\",\"type\":\"Line\"},{\"attributes\":{\"source\":{\"id\":\"3436\"}},\"id\":\"3443\",\"type\":\"CDSView\"},{\"attributes\":{\"bottom_units\":\"screen\",\"fill_alpha\":0.5,\"fill_color\":\"lightgrey\",\"left_units\":\"screen\",\"level\":\"overlay\",\"line_alpha\":1.0,\"line_color\":\"black\",\"line_dash\":[4,4],\"line_width\":2,\"right_units\":\"screen\",\"top_units\":\"screen\"},\"id\":\"3428\",\"type\":\"BoxAnnotation\"},{\"attributes\":{\"end\":20.0,\"reset_end\":20.0,\"reset_start\":0.0,\"tags\":[[[\"index\",\"index\",null]]]},\"id\":\"3403\",\"type\":\"Range1d\"},{\"attributes\":{\"axis\":{\"id\":\"3415\"},\"grid_line_color\":null,\"ticker\":null},\"id\":\"3418\",\"type\":\"Grid\"},{\"attributes\":{\"end\":108.5,\"reset_end\":108.5,\"reset_start\":6.5,\"start\":6.5,\"tags\":[[[\"Balance\",\"Balance\",null]]]},\"id\":\"3404\",\"type\":\"Range1d\"},{\"attributes\":{},\"id\":\"3446\",\"type\":\"BasicTickFormatter\"},{\"attributes\":{\"below\":[{\"id\":\"3415\"}],\"center\":[{\"id\":\"3418\"},{\"id\":\"3422\"}],\"left\":[{\"id\":\"3419\"}],\"margin\":[5,5,5,5],\"min_border_bottom\":10,\"min_border_left\":10,\"min_border_right\":10,\"min_border_top\":10,\"plot_height\":300,\"plot_width\":700,\"renderers\":[{\"id\":\"3442\"}],\"sizing_mode\":\"fixed\",\"title\":{\"id\":\"3407\"},\"toolbar\":{\"id\":\"3429\"},\"x_range\":{\"id\":\"3403\"},\"x_scale\":{\"id\":\"3411\"},\"y_range\":{\"id\":\"3404\"},\"y_scale\":{\"id\":\"3413\"}},\"id\":\"3406\",\"subtype\":\"Figure\",\"type\":\"Plot\"},{\"attributes\":{},\"id\":\"3455\",\"type\":\"UnionRenderers\"},{\"attributes\":{},\"id\":\"3411\",\"type\":\"LinearScale\"},{\"attributes\":{},\"id\":\"3416\",\"type\":\"BasicTicker\"},{\"attributes\":{\"active_drag\":\"auto\",\"active_inspect\":\"auto\",\"active_multi\":null,\"active_scroll\":\"auto\",\"active_tap\":\"auto\",\"tools\":[{\"id\":\"3405\"},{\"id\":\"3423\"},{\"id\":\"3424\"},{\"id\":\"3425\"},{\"id\":\"3426\"},{\"id\":\"3427\"}]},\"id\":\"3429\",\"type\":\"Toolbar\"},{\"attributes\":{\"data\":{\"Balance\":{\"__ndarray__\":\"AAAAAAAAWUAAAAAAAGBYQAAAAAAAIFdAAAAAAACAVkAAAAAAAKBUQAAAAAAAoFRAAAAAAADAUkAAAAAAAOBQQAAAAAAAAE5AAAAAAABASkAAAAAAAIBGQAAAAAAAgEZAAAAAAADAQkAAAAAAAMBCQAAAAAAAQEBAAAAAAAAAPkAAAAAAAIA7QAAAAAAAADRAAAAAAAAANEAAAAAAAAA0QAAAAAAAAC5A\",\"dtype\":\"float64\",\"order\":\"little\",\"shape\":[21]},\"index\":[0,1,2,3,4,5,6,7,8,9,10,11,12,13,14,15,16,17,18,19,20]},\"selected\":{\"id\":\"3437\"},\"selection_policy\":{\"id\":\"3455\"}},\"id\":\"3436\",\"type\":\"ColumnDataSource\"},{\"attributes\":{\"text\":\"\",\"text_color\":{\"value\":\"black\"},\"text_font_size\":{\"value\":\"12pt\"}},\"id\":\"3407\",\"type\":\"Title\"},{\"attributes\":{},\"id\":\"3424\",\"type\":\"PanTool\"},{\"attributes\":{\"margin\":[5,5,5,5],\"name\":\"HSpacer07179\",\"sizing_mode\":\"stretch_width\"},\"id\":\"3464\",\"type\":\"Spacer\"},{\"attributes\":{},\"id\":\"3413\",\"type\":\"LinearScale\"},{\"attributes\":{\"axis_label\":\"\",\"bounds\":\"auto\",\"formatter\":{\"id\":\"3444\"},\"major_label_orientation\":\"horizontal\",\"ticker\":{\"id\":\"3416\"}},\"id\":\"3415\",\"type\":\"LinearAxis\"},{\"attributes\":{\"axis\":{\"id\":\"3419\"},\"dimension\":1,\"grid_line_color\":null,\"ticker\":null},\"id\":\"3422\",\"type\":\"Grid\"},{\"attributes\":{\"margin\":[5,5,5,5],\"name\":\"HSpacer07178\",\"sizing_mode\":\"stretch_width\"},\"id\":\"3402\",\"type\":\"Spacer\"},{\"attributes\":{\"axis_label\":\"Balance\",\"bounds\":\"auto\",\"formatter\":{\"id\":\"3446\"},\"major_label_orientation\":\"horizontal\",\"ticker\":{\"id\":\"3420\"}},\"id\":\"3419\",\"type\":\"LinearAxis\"},{\"attributes\":{},\"id\":\"3420\",\"type\":\"BasicTicker\"},{\"attributes\":{},\"id\":\"3425\",\"type\":\"WheelZoomTool\"},{\"attributes\":{},\"id\":\"3427\",\"type\":\"ResetTool\"},{\"attributes\":{},\"id\":\"3423\",\"type\":\"SaveTool\"},{\"attributes\":{\"overlay\":{\"id\":\"3428\"}},\"id\":\"3426\",\"type\":\"BoxZoomTool\"}],\"root_ids\":[\"3401\"]},\"title\":\"Bokeh Application\",\"version\":\"2.2.3\"}};\n",
       "    var render_items = [{\"docid\":\"27df82f8-77f4-44c4-be36-b71b4d5425b9\",\"root_ids\":[\"3401\"],\"roots\":{\"3401\":\"acd8fdb4-76d1-433c-90ae-98b210cf05b1\"}}];\n",
       "    root.Bokeh.embed.embed_items_notebook(docs_json, render_items);\n",
       "  }\n",
       "  if (root.Bokeh !== undefined && root.Bokeh.Panel !== undefined) {\n",
       "    embed_document(root);\n",
       "  } else {\n",
       "    var attempts = 0;\n",
       "    var timer = setInterval(function(root) {\n",
       "      if (root.Bokeh !== undefined && root.Bokeh.Panel !== undefined) {\n",
       "        clearInterval(timer);\n",
       "        embed_document(root);\n",
       "      } else if (document.readyState == \"complete\") {\n",
       "        attempts++;\n",
       "        if (attempts > 100) {\n",
       "          clearInterval(timer);\n",
       "          console.log(\"Bokeh: ERROR: Unable to run BokehJS code because BokehJS library is missing\");\n",
       "        }\n",
       "      }\n",
       "    }, 10, root)\n",
       "  }\n",
       "})(window);</script>"
      ],
      "text/plain": [
       ":Curve   [index]   (Balance)"
      ]
     },
     "execution_count": 88,
     "metadata": {
      "application/vnd.holoviews_exec.v0+json": {
       "id": "3401"
      }
     },
     "output_type": "execute_result"
    }
   ],
   "source": [
    "df.hvplot(y='Balance')"
   ]
  },
  {
   "cell_type": "code",
   "execution_count": 89,
   "id": "noble-windows",
   "metadata": {},
   "outputs": [
    {
     "data": {},
     "metadata": {},
     "output_type": "display_data"
    },
    {
     "data": {
      "application/vnd.holoviews_exec.v0+json": "",
      "text/html": [
       "<div id='3506'>\n",
       "\n",
       "\n",
       "\n",
       "\n",
       "\n",
       "  <div class=\"bk-root\" id=\"2c2053e8-e8e9-4c1b-ad28-fc2159910c5e\" data-root-id=\"3506\"></div>\n",
       "</div>\n",
       "<script type=\"application/javascript\">(function(root) {\n",
       "  function embed_document(root) {\n",
       "    var docs_json = {\"f9ad5478-4b77-4b12-adbd-44c3655b6135\":{\"roots\":{\"references\":[{\"attributes\":{},\"id\":\"3532\",\"type\":\"WheelZoomTool\"},{\"attributes\":{},\"id\":\"3545\",\"type\":\"BasicTickFormatter\"},{\"attributes\":{\"active_drag\":\"auto\",\"active_inspect\":\"auto\",\"active_multi\":null,\"active_scroll\":\"auto\",\"active_tap\":\"auto\",\"tools\":[{\"id\":\"3510\"},{\"id\":\"3530\"},{\"id\":\"3531\"},{\"id\":\"3532\"},{\"id\":\"3533\"},{\"id\":\"3534\"}]},\"id\":\"3536\",\"type\":\"Toolbar\"},{\"attributes\":{\"overlay\":{\"id\":\"3535\"}},\"id\":\"3533\",\"type\":\"BoxZoomTool\"},{\"attributes\":{},\"id\":\"3534\",\"type\":\"ResetTool\"},{\"attributes\":{},\"id\":\"3603\",\"type\":\"UnionRenderers\"},{\"attributes\":{},\"id\":\"3543\",\"type\":\"BasicTickFormatter\"},{\"attributes\":{\"data_source\":{\"id\":\"3547\"},\"glyph\":{\"id\":\"3550\"},\"hover_glyph\":null,\"muted_glyph\":{\"id\":\"3552\"},\"nonselection_glyph\":{\"id\":\"3551\"},\"selection_glyph\":null,\"view\":{\"id\":\"3554\"}},\"id\":\"3553\",\"type\":\"GlyphRenderer\"},{\"attributes\":{\"end\":4.4,\"reset_end\":4.4,\"reset_start\":-0.4,\"start\":-0.4,\"tags\":[[[\"value\",\"value\",null]]]},\"id\":\"3509\",\"type\":\"Range1d\"},{\"attributes\":{\"line_alpha\":0.1,\"line_color\":\"#1f77b3\",\"line_width\":2,\"x\":{\"field\":\"index\"},\"y\":{\"field\":\"value\"}},\"id\":\"3551\",\"type\":\"Line\"},{\"attributes\":{\"line_color\":\"#1f77b3\",\"line_width\":2,\"x\":{\"field\":\"index\"},\"y\":{\"field\":\"value\"}},\"id\":\"3550\",\"type\":\"Line\"},{\"attributes\":{\"margin\":[5,5,5,5],\"name\":\"HSpacer07420\",\"sizing_mode\":\"stretch_width\"},\"id\":\"3507\",\"type\":\"Spacer\"},{\"attributes\":{},\"id\":\"3518\",\"type\":\"LinearScale\"},{\"attributes\":{},\"id\":\"3548\",\"type\":\"Selection\"},{\"attributes\":{},\"id\":\"3562\",\"type\":\"UnionRenderers\"},{\"attributes\":{\"margin\":[5,5,5,5],\"name\":\"HSpacer07421\",\"sizing_mode\":\"stretch_width\"},\"id\":\"3713\",\"type\":\"Spacer\"},{\"attributes\":{\"source\":{\"id\":\"3547\"}},\"id\":\"3554\",\"type\":\"CDSView\"},{\"attributes\":{\"label\":{\"value\":\"a1\"},\"renderers\":[{\"id\":\"3553\"}]},\"id\":\"3564\",\"type\":\"LegendItem\"},{\"attributes\":{},\"id\":\"3582\",\"type\":\"UnionRenderers\"},{\"attributes\":{\"bottom_units\":\"screen\",\"fill_alpha\":0.5,\"fill_color\":\"lightgrey\",\"left_units\":\"screen\",\"level\":\"overlay\",\"line_alpha\":1.0,\"line_color\":\"black\",\"line_dash\":[4,4],\"line_width\":2,\"right_units\":\"screen\",\"top_units\":\"screen\"},\"id\":\"3535\",\"type\":\"BoxAnnotation\"},{\"attributes\":{\"callback\":null,\"renderers\":[{\"id\":\"3553\"},{\"id\":\"3571\"},{\"id\":\"3590\"}],\"tags\":[\"hv_created\"],\"tooltips\":[[\"Variable\",\"@{Variable}\"],[\"index\",\"@{index}\"],[\"value\",\"@{value}\"]]},\"id\":\"3510\",\"type\":\"HoverTool\"},{\"attributes\":{\"line_alpha\":0.2,\"line_color\":\"#1f77b3\",\"line_width\":2,\"x\":{\"field\":\"index\"},\"y\":{\"field\":\"value\"}},\"id\":\"3552\",\"type\":\"Line\"},{\"attributes\":{\"data\":{\"Variable\":[\"a2\",\"a2\",\"a2\",\"a2\",\"a2\",\"a2\",\"a2\",\"a2\",\"a2\",\"a2\",\"a2\",\"a2\",\"a2\",\"a2\",\"a2\",\"a2\",\"a2\",\"a2\",\"a2\",\"a2\",\"a2\"],\"index\":[0,1,2,3,4,5,6,7,8,9,10,11,12,13,14,15,16,17,18,19,20],\"value\":[0,4,1,2,4,1,0,3,2,1,1,1,3,1,3,1,4,0,2,4,4]},\"selected\":{\"id\":\"3566\"},\"selection_policy\":{\"id\":\"3582\"}},\"id\":\"3565\",\"type\":\"ColumnDataSource\"},{\"attributes\":{},\"id\":\"3523\",\"type\":\"BasicTicker\"},{\"attributes\":{\"label\":{\"value\":\"a3\"},\"renderers\":[{\"id\":\"3590\"}]},\"id\":\"3604\",\"type\":\"LegendItem\"},{\"attributes\":{\"data\":{\"Variable\":[\"a3\",\"a3\",\"a3\",\"a3\",\"a3\",\"a3\",\"a3\",\"a3\",\"a3\",\"a3\",\"a3\",\"a3\",\"a3\",\"a3\",\"a3\",\"a3\",\"a3\",\"a3\",\"a3\",\"a3\",\"a3\"],\"index\":[0,1,2,3,4,5,6,7,8,9,10,11,12,13,14,15,16,17,18,19,20],\"value\":[2,1,2,1,3,0,3,3,3,3,3,0,3,0,2,1,1,3,0,0,2]},\"selected\":{\"id\":\"3585\"},\"selection_policy\":{\"id\":\"3603\"}},\"id\":\"3584\",\"type\":\"ColumnDataSource\"},{\"attributes\":{\"label\":{\"value\":\"a2\"},\"renderers\":[{\"id\":\"3571\"}]},\"id\":\"3583\",\"type\":\"LegendItem\"},{\"attributes\":{\"text\":\"\",\"text_color\":{\"value\":\"black\"},\"text_font_size\":{\"value\":\"12pt\"}},\"id\":\"3514\",\"type\":\"Title\"},{\"attributes\":{\"line_color\":\"#ff7e0e\",\"line_width\":2,\"x\":{\"field\":\"index\"},\"y\":{\"field\":\"value\"}},\"id\":\"3568\",\"type\":\"Line\"},{\"attributes\":{\"children\":[{\"id\":\"3507\"},{\"id\":\"3513\"},{\"id\":\"3713\"}],\"margin\":[0,0,0,0],\"name\":\"Row07416\",\"tags\":[\"embedded\"]},\"id\":\"3506\",\"type\":\"Row\"},{\"attributes\":{\"end\":20.0,\"reset_end\":20.0,\"reset_start\":0.0,\"tags\":[[[\"index\",\"index\",null]]]},\"id\":\"3508\",\"type\":\"Range1d\"},{\"attributes\":{\"data_source\":{\"id\":\"3565\"},\"glyph\":{\"id\":\"3568\"},\"hover_glyph\":null,\"muted_glyph\":{\"id\":\"3570\"},\"nonselection_glyph\":{\"id\":\"3569\"},\"selection_glyph\":null,\"view\":{\"id\":\"3572\"}},\"id\":\"3571\",\"type\":\"GlyphRenderer\"},{\"attributes\":{},\"id\":\"3527\",\"type\":\"BasicTicker\"},{\"attributes\":{\"line_alpha\":0.1,\"line_color\":\"#2ba02b\",\"line_width\":2,\"x\":{\"field\":\"index\"},\"y\":{\"field\":\"value\"}},\"id\":\"3588\",\"type\":\"Line\"},{\"attributes\":{},\"id\":\"3520\",\"type\":\"LinearScale\"},{\"attributes\":{\"data_source\":{\"id\":\"3584\"},\"glyph\":{\"id\":\"3587\"},\"hover_glyph\":null,\"muted_glyph\":{\"id\":\"3589\"},\"nonselection_glyph\":{\"id\":\"3588\"},\"selection_glyph\":null,\"view\":{\"id\":\"3591\"}},\"id\":\"3590\",\"type\":\"GlyphRenderer\"},{\"attributes\":{\"below\":[{\"id\":\"3522\"}],\"center\":[{\"id\":\"3525\"},{\"id\":\"3529\"}],\"left\":[{\"id\":\"3526\"}],\"margin\":[5,5,5,5],\"min_border_bottom\":10,\"min_border_left\":10,\"min_border_right\":10,\"min_border_top\":10,\"plot_height\":300,\"plot_width\":700,\"renderers\":[{\"id\":\"3553\"},{\"id\":\"3571\"},{\"id\":\"3590\"}],\"right\":[{\"id\":\"3563\"}],\"sizing_mode\":\"fixed\",\"title\":{\"id\":\"3514\"},\"toolbar\":{\"id\":\"3536\"},\"x_range\":{\"id\":\"3508\"},\"x_scale\":{\"id\":\"3518\"},\"y_range\":{\"id\":\"3509\"},\"y_scale\":{\"id\":\"3520\"}},\"id\":\"3513\",\"subtype\":\"Figure\",\"type\":\"Plot\"},{\"attributes\":{\"line_color\":\"#2ba02b\",\"line_width\":2,\"x\":{\"field\":\"index\"},\"y\":{\"field\":\"value\"}},\"id\":\"3587\",\"type\":\"Line\"},{\"attributes\":{\"line_alpha\":0.2,\"line_color\":\"#ff7e0e\",\"line_width\":2,\"x\":{\"field\":\"index\"},\"y\":{\"field\":\"value\"}},\"id\":\"3570\",\"type\":\"Line\"},{\"attributes\":{},\"id\":\"3530\",\"type\":\"SaveTool\"},{\"attributes\":{\"line_alpha\":0.1,\"line_color\":\"#ff7e0e\",\"line_width\":2,\"x\":{\"field\":\"index\"},\"y\":{\"field\":\"value\"}},\"id\":\"3569\",\"type\":\"Line\"},{\"attributes\":{},\"id\":\"3585\",\"type\":\"Selection\"},{\"attributes\":{},\"id\":\"3531\",\"type\":\"PanTool\"},{\"attributes\":{\"data\":{\"Variable\":[\"a1\",\"a1\",\"a1\",\"a1\",\"a1\",\"a1\",\"a1\",\"a1\",\"a1\",\"a1\",\"a1\",\"a1\",\"a1\",\"a1\",\"a1\",\"a1\",\"a1\",\"a1\",\"a1\",\"a1\",\"a1\"],\"index\":[0,1,2,3,4,5,6,7,8,9,10,11,12,13,14,15,16,17,18,19,20],\"value\":[2,1,1,1,1,1,1,1,1,1,1,1,1,1,1,1,1,1,1,1,1]},\"selected\":{\"id\":\"3548\"},\"selection_policy\":{\"id\":\"3562\"}},\"id\":\"3547\",\"type\":\"ColumnDataSource\"},{\"attributes\":{\"line_alpha\":0.2,\"line_color\":\"#2ba02b\",\"line_width\":2,\"x\":{\"field\":\"index\"},\"y\":{\"field\":\"value\"}},\"id\":\"3589\",\"type\":\"Line\"},{\"attributes\":{},\"id\":\"3566\",\"type\":\"Selection\"},{\"attributes\":{\"axis\":{\"id\":\"3522\"},\"grid_line_color\":null,\"ticker\":null},\"id\":\"3525\",\"type\":\"Grid\"},{\"attributes\":{\"axis_label\":\"\",\"bounds\":\"auto\",\"formatter\":{\"id\":\"3543\"},\"major_label_orientation\":\"horizontal\",\"ticker\":{\"id\":\"3523\"}},\"id\":\"3522\",\"type\":\"LinearAxis\"},{\"attributes\":{\"source\":{\"id\":\"3584\"}},\"id\":\"3591\",\"type\":\"CDSView\"},{\"attributes\":{\"axis_label\":\"\",\"bounds\":\"auto\",\"formatter\":{\"id\":\"3545\"},\"major_label_orientation\":\"horizontal\",\"ticker\":{\"id\":\"3527\"}},\"id\":\"3526\",\"type\":\"LinearAxis\"},{\"attributes\":{\"click_policy\":\"mute\",\"items\":[{\"id\":\"3564\"},{\"id\":\"3583\"},{\"id\":\"3604\"}],\"location\":[0,0],\"title\":\"Variable\"},\"id\":\"3563\",\"type\":\"Legend\"},{\"attributes\":{\"axis\":{\"id\":\"3526\"},\"dimension\":1,\"grid_line_color\":null,\"ticker\":null},\"id\":\"3529\",\"type\":\"Grid\"},{\"attributes\":{\"source\":{\"id\":\"3565\"}},\"id\":\"3572\",\"type\":\"CDSView\"}],\"root_ids\":[\"3506\"]},\"title\":\"Bokeh Application\",\"version\":\"2.2.3\"}};\n",
       "    var render_items = [{\"docid\":\"f9ad5478-4b77-4b12-adbd-44c3655b6135\",\"root_ids\":[\"3506\"],\"roots\":{\"3506\":\"2c2053e8-e8e9-4c1b-ad28-fc2159910c5e\"}}];\n",
       "    root.Bokeh.embed.embed_items_notebook(docs_json, render_items);\n",
       "  }\n",
       "  if (root.Bokeh !== undefined && root.Bokeh.Panel !== undefined) {\n",
       "    embed_document(root);\n",
       "  } else {\n",
       "    var attempts = 0;\n",
       "    var timer = setInterval(function(root) {\n",
       "      if (root.Bokeh !== undefined && root.Bokeh.Panel !== undefined) {\n",
       "        clearInterval(timer);\n",
       "        embed_document(root);\n",
       "      } else if (document.readyState == \"complete\") {\n",
       "        attempts++;\n",
       "        if (attempts > 100) {\n",
       "          clearInterval(timer);\n",
       "          console.log(\"Bokeh: ERROR: Unable to run BokehJS code because BokehJS library is missing\");\n",
       "        }\n",
       "      }\n",
       "    }, 10, root)\n",
       "  }\n",
       "})(window);</script>"
      ],
      "text/plain": [
       ":NdOverlay   [Variable]\n",
       "   :Curve   [index]   (value)"
      ]
     },
     "execution_count": 89,
     "metadata": {
      "application/vnd.holoviews_exec.v0+json": {
       "id": "3506"
      }
     },
     "output_type": "execute_result"
    }
   ],
   "source": [
    "df.hvplot(y=['a1','a2','a3'])"
   ]
  },
  {
   "cell_type": "code",
   "execution_count": null,
   "id": "floating-detroit",
   "metadata": {},
   "outputs": [],
   "source": []
  }
 ],
 "metadata": {
  "kernelspec": {
   "display_name": "Python 3",
   "language": "python",
   "name": "python3"
  },
  "language_info": {
   "codemirror_mode": {
    "name": "ipython",
    "version": 3
   },
   "file_extension": ".py",
   "mimetype": "text/x-python",
   "name": "python",
   "nbconvert_exporter": "python",
   "pygments_lexer": "ipython3",
   "version": "3.8.6"
  }
 },
 "nbformat": 4,
 "nbformat_minor": 5
}
